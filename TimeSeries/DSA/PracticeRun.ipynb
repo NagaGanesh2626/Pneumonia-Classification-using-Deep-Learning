{
 "cells": [
  {
   "cell_type": "code",
   "execution_count": 3,
   "id": "e46bfd80-7608-4778-8b0c-bab2e59a693b",
   "metadata": {},
   "outputs": [],
   "source": [
    "class node:\n",
    "    def __init__(self, item = None, next = None):\n",
    "        self.item = item\n",
    "        self.next = next"
   ]
  },
  {
   "cell_type": "code",
   "execution_count": 93,
   "id": "aa8ad1af-4235-4aa2-bf97-19feb3ce6bab",
   "metadata": {},
   "outputs": [],
   "source": [
    "class sll:\n",
    "    def __init__(self, start = None):\n",
    "        self.start = start\n",
    "    def insert_at_start(self, data):\n",
    "        n = node(data, self.start)\n",
    "        self.start = n\n",
    "    def insert_at_last(self, data):\n",
    "        n = node(data)\n",
    "        if self.start is not None:    #This is actually important otherwise everything will go wrong\n",
    "            temp = self.start\n",
    "            while temp.next is not None:\n",
    "                temp = temp.next\n",
    "            temp.next = n\n",
    "    def reverse_list(self):\n",
    "        prev = None\n",
    "        if self.start is not None:\n",
    "            temp = self.start\n",
    "            if temp.next is not None:\n",
    "                front = temp.next\n",
    "                while front:\n",
    "                    front = temp.next\n",
    "                    temp.next = prev\n",
    "                    prev = temp\n",
    "                    temp = front\n",
    "                self.start = prev\n",
    "        return prev\n",
    "    def mid_temp(self):\n",
    "        temp = self.start\n",
    "        hell = temp\n",
    "        i = 0\n",
    "        while temp is not None:\n",
    "            temp = temp.next\n",
    "            i = i+1\n",
    "        if i%2==0:\n",
    "            for j in range(i):\n",
    "                hell = hell.next\n",
    "            print(hell)\n",
    "        \"\"\"\n",
    "        else \n",
    "            for j in range((i+1)/2):\n",
    "                hell = hell.next\n",
    "        print(hell)\n",
    "        \"\"\"\n",
    "    def print_list(self):\n",
    "        temp = self.start\n",
    "        while temp is not None:\n",
    "            print(temp.item)\n",
    "            temp = temp.next"
   ]
  },
  {
   "cell_type": "code",
   "execution_count": 94,
   "id": "d625f04a-db4a-43d6-85f1-c5bc5e2af68d",
   "metadata": {},
   "outputs": [
    {
     "name": "stdout",
     "output_type": "stream",
     "text": [
      "20\n",
      "15\n"
     ]
    }
   ],
   "source": [
    "mylist = sll()\n",
    "mylist.insert_at_start(20)\n",
    "mylist.insert_at_last(15)\n",
    "mylist.print_list()"
   ]
  },
  {
   "cell_type": "code",
   "execution_count": 95,
   "id": "6417407f-f202-4674-81a6-266362ac890a",
   "metadata": {},
   "outputs": [
    {
     "name": "stdout",
     "output_type": "stream",
     "text": [
      "20\n",
      "15\n"
     ]
    }
   ],
   "source": [
    "mylist.print_list()"
   ]
  },
  {
   "cell_type": "code",
   "execution_count": 96,
   "id": "fb2eaaf3-5933-4f7c-b63a-d5c1831f1938",
   "metadata": {},
   "outputs": [],
   "source": [
    "mylist.reverse_list();"
   ]
  },
  {
   "cell_type": "code",
   "execution_count": 97,
   "id": "d6985f07-e440-44a1-ba4f-a057a4cfb159",
   "metadata": {},
   "outputs": [
    {
     "name": "stdout",
     "output_type": "stream",
     "text": [
      "15\n",
      "20\n"
     ]
    }
   ],
   "source": [
    "mylist.print_list()"
   ]
  },
  {
   "cell_type": "code",
   "execution_count": 98,
   "id": "a1de077e-0b63-4520-a281-29d2c7f3dd55",
   "metadata": {},
   "outputs": [
    {
     "name": "stdout",
     "output_type": "stream",
     "text": [
      "None\n"
     ]
    }
   ],
   "source": [
    "mylist.mid_temp()"
   ]
  }
 ],
 "metadata": {
  "kernelspec": {
   "display_name": "Python 3 (ipykernel)",
   "language": "python",
   "name": "python3"
  },
  "language_info": {
   "codemirror_mode": {
    "name": "ipython",
    "version": 3
   },
   "file_extension": ".py",
   "mimetype": "text/x-python",
   "name": "python",
   "nbconvert_exporter": "python",
   "pygments_lexer": "ipython3",
   "version": "3.12.3"
  }
 },
 "nbformat": 4,
 "nbformat_minor": 5
}
